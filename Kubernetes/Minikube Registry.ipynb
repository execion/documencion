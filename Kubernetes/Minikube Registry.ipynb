{
 "cells": [
  {
   "cell_type": "markdown",
   "id": "70a9db6b-216e-4971-a6f7-60234e51e6ab",
   "metadata": {},
   "source": [
    "## Iniciar Minikube"
   ]
  },
  {
   "cell_type": "code",
   "execution_count": null,
   "id": "99fa5620-1fc3-4b6b-8d51-0c2ea0f1ae01",
   "metadata": {},
   "outputs": [],
   "source": [
    "minikube start"
   ]
  },
  {
   "cell_type": "markdown",
   "id": "6ad27b80-e7cf-4a3f-b306-9a86be12a029",
   "metadata": {},
   "source": [
    "---"
   ]
  },
  {
   "cell_type": "markdown",
   "id": "ae91e37e-a61d-441f-8d5c-8097e6fb4049",
   "metadata": {},
   "source": [
    "## Activar registry de Minikube"
   ]
  },
  {
   "cell_type": "code",
   "execution_count": null,
   "id": "13c1d962-bf25-4ff1-9ee4-9bf23f2f3b1b",
   "metadata": {},
   "outputs": [],
   "source": [
    "minikube addons enable registry"
   ]
  },
  {
   "cell_type": "markdown",
   "id": "448b8a3f-1c1a-4015-9640-d337c524da25",
   "metadata": {},
   "source": [
    "---"
   ]
  },
  {
   "cell_type": "markdown",
   "id": "e25bbd66-8986-4862-a33a-489d117c1771",
   "metadata": {},
   "source": [
    "## Corroborar que funciona el registry"
   ]
  },
  {
   "cell_type": "code",
   "execution_count": null,
   "id": "64739ecf-f59a-4e50-b2cd-5e7f72f16444",
   "metadata": {},
   "outputs": [],
   "source": [
    "kubectl get pods -n kube-system | grep registry-"
   ]
  },
  {
   "cell_type": "markdown",
   "id": "060468f0-83d4-4169-8501-fc752482b32a",
   "metadata": {},
   "source": [
    "---"
   ]
  },
  {
   "cell_type": "markdown",
   "id": "ab81e0ea-52e2-44d0-8e33-9f36c854ace6",
   "metadata": {},
   "source": [
    "## Exponer el registry fuera del Cluster"
   ]
  },
  {
   "cell_type": "code",
   "execution_count": null,
   "id": "78d3c990-03aa-4dac-81d7-b6e06d837778",
   "metadata": {},
   "outputs": [],
   "source": [
    "kubectl expose deployment registry -n kube-system --type=NodePort --name=registry-service"
   ]
  },
  {
   "cell_type": "markdown",
   "id": "81d71cc8-0dc3-4f09-b405-747f6bb4015f",
   "metadata": {},
   "source": [
    "***"
   ]
  },
  {
   "cell_type": "markdown",
   "id": "12ea9dc7-8047-46d9-94ca-f12ddb86f10d",
   "metadata": {},
   "source": [
    "## Obtener el puerto"
   ]
  },
  {
   "cell_type": "code",
   "execution_count": null,
   "id": "924ee35e-3fba-46da-9bc8-8794ad459814",
   "metadata": {},
   "outputs": [],
   "source": [
    "kubectl get svc -n kube-system registry-service"
   ]
  },
  {
   "cell_type": "markdown",
   "id": "cc7bdf78-2c10-42c8-8ad0-766fab71a57f",
   "metadata": {},
   "source": [
    "***"
   ]
  },
  {
   "cell_type": "markdown",
   "id": "73bd953e-dbf6-4fd6-8c74-737f00498e78",
   "metadata": {},
   "source": [
    "## Etiquetar y Pushear la imagen"
   ]
  },
  {
   "cell_type": "code",
   "execution_count": null,
   "id": "5f9a3a52-8447-4c7d-bf3c-f5a38ee8391e",
   "metadata": {},
   "outputs": [],
   "source": [
    "docker tag my-image:latest localhost:5000/my-image:latest"
   ]
  },
  {
   "cell_type": "code",
   "execution_count": null,
   "id": "6c4e234e-f2c8-40de-810e-5e51f0a84f1c",
   "metadata": {},
   "outputs": [],
   "source": [
    "docker push localhost:5000/my-image:latest"
   ]
  }
 ],
 "metadata": {
  "kernelspec": {
   "display_name": "Bash",
   "language": "bash",
   "name": "bash"
  },
  "language_info": {
   "codemirror_mode": "shell",
   "file_extension": ".sh",
   "mimetype": "text/x-sh",
   "name": "bash"
  }
 },
 "nbformat": 4,
 "nbformat_minor": 5
}
